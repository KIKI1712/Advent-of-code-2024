{
 "cells": [
  {
   "cell_type": "code",
   "execution_count": null,
   "metadata": {},
   "outputs": [],
   "source": [
    "with open('data1.txt', 'r') as file:\n",
    "    f = file.read()"
   ]
  },
  {
   "cell_type": "markdown",
   "metadata": {},
   "source": [
    "PART1"
   ]
  },
  {
   "cell_type": "code",
   "execution_count": 37,
   "metadata": {},
   "outputs": [
    {
     "name": "stdout",
     "output_type": "stream",
     "text": [
      "3714264\n"
     ]
    }
   ],
   "source": [
    "list1 = []\n",
    "list2 = []\n",
    "\n",
    "for line in f.splitlines():\n",
    "    data = line.split()\n",
    "    list1.append(int(data[0]))\n",
    "    list2.append(int(data[1]))\n",
    "\n",
    "list1.sort()\n",
    "list2.sort()\n",
    "\n",
    "iter = 0\n",
    "distance = []\n",
    "for _ in range(0 , len(list1)):\n",
    "    distance.append(abs(list1[iter] - list2[iter]))\n",
    "    iter += 1\n",
    "\n",
    "print(sum(distance))"
   ]
  },
  {
   "cell_type": "markdown",
   "metadata": {},
   "source": [
    "PART2"
   ]
  },
  {
   "cell_type": "code",
   "execution_count": 49,
   "metadata": {},
   "outputs": [
    {
     "data": {
      "text/plain": [
       "18805872"
      ]
     },
     "execution_count": 49,
     "metadata": {},
     "output_type": "execute_result"
    }
   ],
   "source": [
    "similarty = []\n",
    "for number in list1:\n",
    "    x = [1 for x in list2 if x == number]\n",
    "    similarty.append(number*(sum(x)))\n",
    "\n",
    "sum(similarty)"
   ]
  }
 ],
 "metadata": {
  "kernelspec": {
   "display_name": "Python_pandas",
   "language": "python",
   "name": "python3"
  },
  "language_info": {
   "codemirror_mode": {
    "name": "ipython",
    "version": 3
   },
   "file_extension": ".py",
   "mimetype": "text/x-python",
   "name": "python",
   "nbconvert_exporter": "python",
   "pygments_lexer": "ipython3",
   "version": "3.11.5"
  }
 },
 "nbformat": 4,
 "nbformat_minor": 2
}
