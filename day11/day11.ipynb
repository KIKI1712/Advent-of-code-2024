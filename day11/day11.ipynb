{
 "cells": [
  {
   "cell_type": "markdown",
   "metadata": {},
   "source": [
    "PART1"
   ]
  },
  {
   "cell_type": "code",
   "execution_count": 96,
   "metadata": {},
   "outputs": [
    {
     "name": "stdout",
     "output_type": "stream",
     "text": [
      "216996\n"
     ]
    }
   ],
   "source": [
    "lista = [0, 7, 198844, 5687836, 58, 2478, 25475, 894]\n",
    "blinks = 25\n",
    "for _ in range(blinks):\n",
    "    new_list = []\n",
    "    for i, value_ in enumerate(lista):\n",
    "        if value_ == 0:\n",
    "            new_value = 1\n",
    "            new_list.append(new_value)\n",
    "            #print(value_)\n",
    "        elif len(str(value_))%2 == 0:\n",
    "            #print(value_)\n",
    "            str_value = str(value_)\n",
    "            split_to = round(len(str_value)/2)\n",
    "            left = str_value[:split_to]\n",
    "            right = str_value[split_to:]\n",
    "            new_list.append(int(left))\n",
    "            new_list.append(int(right))\n",
    "        \n",
    "        else:\n",
    "            new_value = value_*2024\n",
    "            new_list.append(new_value)\n",
    "    #print(new_list)\n",
    "    lista = new_list\n",
    "        \n",
    "        \n",
    "print(len(new_list))\n",
    "\n",
    "\n",
    "        "
   ]
  },
  {
   "cell_type": "markdown",
   "metadata": {},
   "source": [
    "PART2"
   ]
  },
  {
   "cell_type": "code",
   "execution_count": 101,
   "metadata": {},
   "outputs": [
    {
     "name": "stdout",
     "output_type": "stream",
     "text": [
      "defaultdict(<class 'int'>, {0: 1})\n",
      "defaultdict(<class 'int'>, {0: 1, 7: 1})\n",
      "defaultdict(<class 'int'>, {0: 1, 7: 1, 198844: 1})\n",
      "defaultdict(<class 'int'>, {0: 1, 7: 1, 198844: 1, 5687836: 1})\n",
      "defaultdict(<class 'int'>, {0: 1, 7: 1, 198844: 1, 5687836: 1, 58: 1})\n",
      "defaultdict(<class 'int'>, {0: 1, 7: 1, 198844: 1, 5687836: 1, 58: 1, 2478: 1})\n",
      "defaultdict(<class 'int'>, {0: 1, 7: 1, 198844: 1, 5687836: 1, 58: 1, 2478: 1, 25475: 1})\n",
      "defaultdict(<class 'int'>, {0: 1, 7: 1, 198844: 1, 5687836: 1, 58: 1, 2478: 1, 25475: 1, 894: 1})\n",
      "257335372288947\n"
     ]
    }
   ],
   "source": [
    "from collections import defaultdict\n",
    "\n",
    "\n",
    "lista = [0, 7, 198844, 5687836, 58, 2478, 25475, 894]\n",
    "blinks = 75\n",
    "count_dict = defaultdict(int)\n",
    "for num in lista:\n",
    "    count_dict[num] += 1\n",
    "    print(count_dict)\n",
    "\n",
    "for _ in range(blinks):\n",
    "    new_count_dict = defaultdict(int)\n",
    "    for value, count in count_dict.items():\n",
    "        if value == 0:\n",
    "            new_count_dict[1] += count\n",
    "        elif len(str(value)) % 2 == 0:\n",
    "            str_value = str(value)\n",
    "            split_to = round(len(str_value)/2)\n",
    "            left = str_value[:split_to]\n",
    "            right = str_value[split_to:]\n",
    "            new_count_dict[int(left)] += count\n",
    "            new_count_dict[int(right)] += count\n",
    "        else:\n",
    "            new_value = value * 2024\n",
    "            new_count_dict[new_value] += count\n",
    "    count_dict = new_count_dict\n",
    "\n",
    "\n",
    "total_items = sum(count_dict.values())\n",
    "print(total_items)\n"
   ]
  }
 ],
 "metadata": {
  "kernelspec": {
   "display_name": "Python 3",
   "language": "python",
   "name": "python3"
  },
  "language_info": {
   "codemirror_mode": {
    "name": "ipython",
    "version": 3
   },
   "file_extension": ".py",
   "mimetype": "text/x-python",
   "name": "python",
   "nbconvert_exporter": "python",
   "pygments_lexer": "ipython3",
   "version": "3.11.5"
  }
 },
 "nbformat": 4,
 "nbformat_minor": 2
}
