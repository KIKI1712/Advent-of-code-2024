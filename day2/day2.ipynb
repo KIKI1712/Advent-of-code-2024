{
 "cells": [
  {
   "cell_type": "code",
   "execution_count": 103,
   "metadata": {},
   "outputs": [],
   "source": [
    "with open('data2.txt') as file:\n",
    "    data = file.read()\n",
    "\n",
    "with open('data2test.txt') as file:\n",
    "    datatest = file.read()"
   ]
  },
  {
   "cell_type": "markdown",
   "metadata": {},
   "source": [
    "PART 1"
   ]
  },
  {
   "cell_type": "code",
   "execution_count": 193,
   "metadata": {},
   "outputs": [
    {
     "name": "stdout",
     "output_type": "stream",
     "text": [
      "686\n"
     ]
    }
   ],
   "source": [
    "acceptance = [1,2,3]\n",
    "safe_list = 0\n",
    "for i in data.splitlines():\n",
    "    i = i.split()\n",
    "    list_len = (len(i))\n",
    "    asc = 0\n",
    "    desc = 0\n",
    "    #mistake_handler = 0\n",
    "    for itrr in range(0, list_len-1):\n",
    "        first = int(i[itrr])\n",
    "        second = int(i[itrr+1])\n",
    "        if (first > second and abs(first -second) in acceptance):\n",
    "            asc += 1\n",
    "            \n",
    "        if (first < second and abs(first - second) in acceptance):\n",
    "            desc += 1\n",
    "\n",
    "    if asc == list_len-1 or desc == list_len-1:\n",
    "        safe_list += 1\n",
    "            \n",
    "print(safe_list)"
   ]
  },
  {
   "cell_type": "markdown",
   "metadata": {},
   "source": [
    "PART 2"
   ]
  },
  {
   "cell_type": "code",
   "execution_count": 119,
   "metadata": {},
   "outputs": [],
   "source": [
    "def asc_trend(i):\n",
    "    acceptance = [1,2,3]\n",
    "    asc = 0\n",
    "    list_len = (len(i))\n",
    "    for itrr in range(list_len-1):\n",
    "        first = int(i[itrr])\n",
    "        second = int(i[itrr+1])\n",
    "\n",
    "        if (first > second and abs(first -second) in acceptance):\n",
    "            asc += 1\n",
    "        else:\n",
    "            return itrr\n",
    "        \n",
    "    if asc == list_len-1:\n",
    "        return 'cool'\n",
    "\n",
    "def desc_trend(i):\n",
    "    acceptance = [1,2,3]\n",
    "    desc = 0\n",
    "    list_len = (len(i))\n",
    "    for itrr in range(list_len-1):\n",
    "        first = int(i[itrr])\n",
    "        second = int(i[itrr+1])\n",
    "\n",
    "        if (first < second and abs(first -second) in acceptance):\n",
    "            desc += 1\n",
    "        else:\n",
    "            return itrr\n",
    "    if desc == list_len-1:\n",
    "        return 'cool'\n",
    "    \n"
   ]
  },
  {
   "cell_type": "code",
   "execution_count": 121,
   "metadata": {},
   "outputs": [
    {
     "name": "stdout",
     "output_type": "stream",
     "text": [
      "717\n"
     ]
    }
   ],
   "source": [
    "good = 0\n",
    "for i in data.splitlines():\n",
    "    i1 = i.split()\n",
    "    i2 = i1.copy()\n",
    "    i3 = i1.copy()\n",
    "    x = asc_trend(i1)\n",
    "\n",
    "    if x == 'cool':\n",
    "        good += 1 \n",
    "        #print(i1)\n",
    "    else:\n",
    "        x = int(x)\n",
    "        i2.pop(x)\n",
    "        #print(i1, x+1)\n",
    "        i3.pop(x+1)\n",
    "        if asc_trend(i2) == 'cool':\n",
    "            good += 1\n",
    "        elif asc_trend(i3) == 'cool':\n",
    "            good += 1\n",
    "\n",
    "    i2 = i1.copy()\n",
    "    i3 = i1.copy()\n",
    "    \n",
    "    x2 = desc_trend(i1)\n",
    "    if x2 == 'cool':\n",
    "        good += 1 \n",
    "    else:\n",
    "        x2 = int(x2)\n",
    "        i2.pop(x2)\n",
    "        i3.pop(x2+1)\n",
    "        if desc_trend(i2) == 'cool':\n",
    "            good += 1\n",
    "        elif desc_trend(i3) == 'cool':\n",
    "            good += 1 \n",
    "\n",
    "print(good)\n"
   ]
  }
 ],
 "metadata": {
  "kernelspec": {
   "display_name": "Python_pandas",
   "language": "python",
   "name": "python3"
  },
  "language_info": {
   "codemirror_mode": {
    "name": "ipython",
    "version": 3
   },
   "file_extension": ".py",
   "mimetype": "text/x-python",
   "name": "python",
   "nbconvert_exporter": "python",
   "pygments_lexer": "ipython3",
   "version": "3.11.5"
  }
 },
 "nbformat": 4,
 "nbformat_minor": 2
}
