{
 "cells": [
  {
   "cell_type": "code",
   "execution_count": 92,
   "metadata": {},
   "outputs": [],
   "source": [
    "with open('data3test.txt', 'r') as file:\n",
    "    f = file.read()\n",
    "\n",
    "with open('data3.txt', 'r') as file:\n",
    "    data = file.read()"
   ]
  },
  {
   "cell_type": "markdown",
   "metadata": {},
   "source": [
    "PART 1"
   ]
  },
  {
   "cell_type": "code",
   "execution_count": 149,
   "metadata": {},
   "outputs": [
    {
     "name": "stdout",
     "output_type": "stream",
     "text": [
      "167090022\n"
     ]
    }
   ],
   "source": [
    "import re\n",
    "\n",
    "pattern = r\"mul\\(\\d+,\\d+\\)\"\n",
    "numbers = r\"\\d+,\\d+\"\n",
    "muls = re.findall(pattern, data)\n",
    "\n",
    "digits = [re.findall(numbers, i) for i in muls]\n",
    "\n",
    "list_ = []\n",
    "for pair in digits:\n",
    "    for subpair in pair:\n",
    "        y = subpair.split(',')\n",
    "        nums = [int(x) for x in y]\n",
    "        list_.append(nums)\n",
    "\n",
    "sum = 0\n",
    "for num in list_:\n",
    "    sum += num[0]*num[1]\n",
    "print(sum)"
   ]
  },
  {
   "cell_type": "markdown",
   "metadata": {},
   "source": [
    "PART 2"
   ]
  },
  {
   "cell_type": "code",
   "execution_count": 192,
   "metadata": {},
   "outputs": [
    {
     "data": {
      "text/plain": [
       "89823704"
      ]
     },
     "execution_count": 192,
     "metadata": {},
     "output_type": "execute_result"
    }
   ],
   "source": [
    "import re\n",
    "\n",
    "pattern = r\"mul\\(\\d+,\\d+\\)|do\\(\\)|don\\'t\\(\\)\"\n",
    "numbers = r\"\\d+,\\d+\"\n",
    "muls = re.findall(pattern, data)\n",
    "\n",
    "muls = [\"x\" if i == \"don't()\" else i for i in muls]\n",
    "muls = [\"y\" if i == \"do()\" else i for i in muls]\n",
    "\n",
    "digits = [re.findall(numbers,i) if i.__contains__(\"mul\") else i for i in muls]\n",
    "\n",
    "list_ = []\n",
    "for pair in digits:\n",
    "    for subpair in pair:\n",
    "        nums = subpair.split(\",\")\n",
    "        list_.append([int(i) if i != 'x' and i != 'y' else i for i in nums])\n",
    "\n",
    "no_restriction = True\n",
    "sum = 0\n",
    "\n",
    "for i, pair in enumerate(list_):\n",
    "    if pair[0] == 'x':\n",
    "        no_restriction = False\n",
    "    elif pair[0] not in ('x', 'y') and no_restriction:\n",
    "        #print(i,pair)\n",
    "        sum += pair[0]*pair[1]\n",
    "    elif pair[0] == 'y':\n",
    "        no_restriction = True\n",
    "        \n",
    "sum"
   ]
  }
 ],
 "metadata": {
  "kernelspec": {
   "display_name": "Python_pandas",
   "language": "python",
   "name": "python3"
  },
  "language_info": {
   "codemirror_mode": {
    "name": "ipython",
    "version": 3
   },
   "file_extension": ".py",
   "mimetype": "text/x-python",
   "name": "python",
   "nbconvert_exporter": "python",
   "pygments_lexer": "ipython3",
   "version": "3.11.5"
  }
 },
 "nbformat": 4,
 "nbformat_minor": 2
}
