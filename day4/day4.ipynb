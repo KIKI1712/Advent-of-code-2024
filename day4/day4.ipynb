{
 "cells": [
  {
   "cell_type": "code",
   "execution_count": null,
   "metadata": {},
   "outputs": [],
   "source": [
    "with open('data4test.txt', 'r') as file:\n",
    "    dt = file.read()\n",
    "\n",
    "with open('data4.txt', 'r') as file:\n",
    "    data_1 = file.read()"
   ]
  },
  {
   "cell_type": "markdown",
   "metadata": {},
   "source": [
    "PART1"
   ]
  },
  {
   "cell_type": "code",
   "execution_count": 264,
   "metadata": {},
   "outputs": [
    {
     "data": {
      "text/plain": [
       "2358"
      ]
     },
     "execution_count": 264,
     "metadata": {},
     "output_type": "execute_result"
    }
   ],
   "source": [
    "import re\n",
    "pattern = r'(XMAS|SAMX)'\n",
    "data= data_1.split(\"\\n\")\n",
    "pivoted = [''.join(row) for row in zip(*data)]\n",
    "diagonal1 = []\n",
    "diagonal2 = []\n",
    "\n",
    "for num in range(len(data)):\n",
    "    down = num\n",
    "    right = 0\n",
    "    goo = True\n",
    "    word = ''\n",
    "    while goo:\n",
    "        try:\n",
    "            word = word + data[down][right]\n",
    "            right += 1\n",
    "            down += 1\n",
    "        except:\n",
    "            diagonal1.append(word) \n",
    "            goo = False\n",
    "\n",
    "for num in range(len(data[0])):\n",
    "    down = 0\n",
    "    right = num +1\n",
    "    goo = True\n",
    "    word = ''\n",
    "    while goo:\n",
    "        try:\n",
    "            word = word + data[down][right]\n",
    "            right += 1\n",
    "            down += 1\n",
    "        except:\n",
    "            diagonal1.append(word) \n",
    "            goo = False   \n",
    "\n",
    "for num in range(len(data)):\n",
    "    down =  (num + 1)*-1\n",
    "    right = 0\n",
    "    goo = True\n",
    "    word = ''\n",
    "    while goo:\n",
    "        try:\n",
    "            word = word + data[down][right]\n",
    "            right += 1\n",
    "            down -= 1\n",
    "        except:\n",
    "            diagonal2.append(word) \n",
    "            goo = False\n",
    "\n",
    "for num in range(len(data[0])):\n",
    "    down = -1\n",
    "    right = (num + 1)\n",
    "    goo = True\n",
    "    word = ''\n",
    "    while goo:\n",
    "        try:\n",
    "            word = word + data[down][right]\n",
    "            right += 1\n",
    "            down -= 1\n",
    "        except:\n",
    "            diagonal2.append(word) \n",
    "            goo = False\n",
    "\n",
    "\n",
    "\n",
    "all = data + pivoted +diagonal1 + diagonal2\n",
    "total = 0\n",
    "\n",
    "\n",
    "for c in all:\n",
    "    matches = re.findall(pattern, c)\n",
    "    total += int(len(matches))\n",
    "total"
   ]
  },
  {
   "cell_type": "markdown",
   "metadata": {},
   "source": [
    "PART 2"
   ]
  },
  {
   "cell_type": "code",
   "execution_count": 261,
   "metadata": {},
   "outputs": [
    {
     "data": {
      "text/plain": [
       "1941"
      ]
     },
     "execution_count": 261,
     "metadata": {},
     "output_type": "execute_result"
    }
   ],
   "source": [
    "data= data_1.split(\"\\n\")\n",
    "good = 0\n",
    "for row in range(len(data)-1):\n",
    "    for col in range(len(data[0])-1):\n",
    "        if data[row][col] == 'A':\n",
    "            x = data[row+1][col+1] + 'A' + data[row-1][col-1] \n",
    "            y = data[row+1][col-1] + 'A' + data[row-1][col+1]\n",
    "            if x in ('SAM', 'MAS') and y in ('SAM', 'MAS'):\n",
    "                good += 1\n",
    "    \n",
    "good"
   ]
  }
 ],
 "metadata": {
  "kernelspec": {
   "display_name": "Python_pandas",
   "language": "python",
   "name": "python3"
  },
  "language_info": {
   "codemirror_mode": {
    "name": "ipython",
    "version": 3
   },
   "file_extension": ".py",
   "mimetype": "text/x-python",
   "name": "python",
   "nbconvert_exporter": "python",
   "pygments_lexer": "ipython3",
   "version": "3.11.5"
  }
 },
 "nbformat": 4,
 "nbformat_minor": 2
}
