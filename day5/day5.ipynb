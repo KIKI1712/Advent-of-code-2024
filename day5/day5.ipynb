{
 "cells": [
  {
   "cell_type": "code",
   "execution_count": 86,
   "metadata": {},
   "outputs": [],
   "source": [
    "with open('data5test.txt', 'r') as file:\n",
    "    dt = file.read()\n",
    "\n",
    "with open('data5.txt', 'r') as file:\n",
    "    data = file.read()"
   ]
  },
  {
   "cell_type": "markdown",
   "metadata": {},
   "source": [
    "PART1"
   ]
  },
  {
   "cell_type": "code",
   "execution_count": 213,
   "metadata": {},
   "outputs": [],
   "source": [
    "rules = []\n",
    "manual = []\n",
    "for item in data.splitlines():\n",
    "    if '|' in item:\n",
    "        rules.append(item)\n",
    "    elif ',' in item:\n",
    "        manual.append(item)\n",
    " \n",
    "manual = [x.split(',') for x in manual]\n",
    "manual = [[int(j) for j in i] for i in manual]\n",
    "\n",
    "rules = [x.split('|') for x in rules]\n",
    "rules = [[int(j) for j in i] for i in rules]\n",
    "\n",
    "def check_numbers(list):\n",
    "    ok = 0\n",
    "    flag = 0\n",
    "    for itt,numz in enumerate(list):\n",
    "        #print(itt,numz)\n",
    "        a = [x for x in rules if numz in x]\n",
    "        b = [[list[(min(i,itt))], list[(max(i,itt))]] for i, num in enumerate(list) if num != numz]\n",
    "        c = [[list[(max(i,itt))], list[(min(i,itt))]] for i, num in enumerate(list) if num != numz]\n",
    "        #print(b)\n",
    "        #print(c)\n",
    "\n",
    "        for item in b:\n",
    "            if item in a:\n",
    "                ok += 1\n",
    "        for item in c:\n",
    "            if item in a:\n",
    "                flag += 1\n",
    "\n",
    "    if flag == 0:\n",
    "        return list\n",
    "        #print('0kkka')"
   ]
  },
  {
   "cell_type": "code",
   "execution_count": 214,
   "metadata": {},
   "outputs": [
    {
     "name": "stdout",
     "output_type": "stream",
     "text": [
      "6505\n"
     ]
    }
   ],
   "source": [
    "good_manual = []\n",
    "\n",
    "for list in manual:\n",
    "    if check_numbers(list) is not None:\n",
    "        good_manual.append(check_numbers(list))\n",
    "\n",
    "sum = 0  \n",
    "for list in good_manual:\n",
    "    take = (len(list)/2).__floor__()\n",
    "    sum += list[take]\n",
    "\n",
    "print(sum)\n"
   ]
  },
  {
   "cell_type": "markdown",
   "metadata": {},
   "source": [
    "PART2"
   ]
  },
  {
   "cell_type": "code",
   "execution_count": 215,
   "metadata": {},
   "outputs": [
    {
     "name": "stdout",
     "output_type": "stream",
     "text": [
      "6897\n"
     ]
    }
   ],
   "source": [
    "from collections import Counter\n",
    "bad_manual = [x for x in manual if x not in good_manual] #take the wrong ones\n",
    "z = []\n",
    "for lista in bad_manual:\n",
    "    good_item = []\n",
    "    bad_items = []\n",
    "    for itt,numz in enumerate(lista):\n",
    "        #print(itt,numz)\n",
    "        a = [x for x in rules if numz in x]\n",
    "        b = [[lista[(min(i,itt))], lista[(max(i,itt))]] for i, num in enumerate(lista) if num != numz]\n",
    "        c = [[lista[(max(i,itt))], lista[(min(i,itt))]] for i, num in enumerate(lista) if num != numz]\n",
    "        #print(b)\n",
    "        #print(c)\n",
    "        \n",
    "        for item in b:\n",
    "            if item in a:\n",
    "                good_item.append(item)\n",
    "        for item in c:\n",
    "            if item in a:\n",
    "                good_item.append(item)\n",
    "\n",
    "    first_place = []\n",
    "    sec_place = []\n",
    "    for i in good_item:\n",
    "        first_place.append(i[0])\n",
    "        sec_place.append(i[1])\n",
    "\n",
    "\n",
    "    x = Counter(first_place)\n",
    "    y = Counter(sec_place)\n",
    "    x = [item[0] for item in x.most_common()]\n",
    "    x.append(y.most_common()[0][0])\n",
    "    z.append(x)\n",
    "\n",
    "\n",
    "sum = 0  \n",
    "for list in z:\n",
    "    take = (len(list)/2).__floor__()\n",
    "    sum += list[take]\n",
    "\n",
    "print(sum)\n"
   ]
  }
 ],
 "metadata": {
  "kernelspec": {
   "display_name": "Python_pandas",
   "language": "python",
   "name": "python3"
  },
  "language_info": {
   "codemirror_mode": {
    "name": "ipython",
    "version": 3
   },
   "file_extension": ".py",
   "mimetype": "text/x-python",
   "name": "python",
   "nbconvert_exporter": "python",
   "pygments_lexer": "ipython3",
   "version": "3.11.5"
  }
 },
 "nbformat": 4,
 "nbformat_minor": 2
}
