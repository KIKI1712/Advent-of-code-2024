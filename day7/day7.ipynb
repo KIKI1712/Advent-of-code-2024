{
 "cells": [
  {
   "cell_type": "code",
   "execution_count": 8,
   "metadata": {},
   "outputs": [],
   "source": [
    "with open('data7test.txt', 'r') as file:\n",
    "    dt = file.read()\n",
    "\n",
    "with open('data7.text', 'r') as file:\n",
    "    dtt = file.read()\n",
    "\n",
    "data = dtt.splitlines()\n",
    "data = [x.split(' ') for x in data]\n",
    "data = [[int(y.replace(\":\",\"\"))for y in x] for x in data]"
   ]
  },
  {
   "cell_type": "markdown",
   "metadata": {},
   "source": [
    "PART1"
   ]
  },
  {
   "cell_type": "code",
   "execution_count": 9,
   "metadata": {},
   "outputs": [
    {
     "data": {
      "text/plain": [
       "3598800864292"
      ]
     },
     "execution_count": 9,
     "metadata": {},
     "output_type": "execute_result"
    }
   ],
   "source": [
    "from itertools import product\n",
    "\n",
    "def get_info(inputz):\n",
    "    lista = \"\"\n",
    "    for i in range(len(inputz)):\n",
    "        lista = lista + f\"numbers[{i}] ops[{i}], \"\n",
    "\n",
    "    return lista[:-8]   \n",
    "\n",
    "def evaluate_left_to_right(numbers, ops):\n",
    "    result = numbers[0]\n",
    "    for i, op in enumerate(ops):\n",
    "        if op == '+':\n",
    "            result += numbers[i + 1]\n",
    "        elif op == '*':\n",
    "            result *= numbers[i + 1]\n",
    "    \n",
    "    return result\n",
    "\n",
    "operations = ['+', '*']\n",
    "winning_list = []\n",
    "for item in data:\n",
    "    target = item[0]\n",
    "    numbers = item[1:]\n",
    "    reps = len(numbers)-1\n",
    "    #print(target, numbers, reps)\n",
    "    func_template = get_info(numbers) \n",
    "\n",
    "    for ops in product(operations, repeat=reps):\n",
    "        result = evaluate_left_to_right(numbers, ops)\n",
    "        expr = f\"{numbers[0]}\"\n",
    "        for i, op in enumerate(ops):\n",
    "            expr += f\" {op} {numbers[i + 1]}\"\n",
    "\n",
    "        if result == target:\n",
    "            winning_list.append(result)\n",
    "\n",
    "sum(set(winning_list))\n"
   ]
  },
  {
   "cell_type": "markdown",
   "metadata": {},
   "source": [
    "PART2"
   ]
  },
  {
   "cell_type": "code",
   "execution_count": 10,
   "metadata": {},
   "outputs": [
    {
     "data": {
      "text/plain": [
       "340362529351427"
      ]
     },
     "execution_count": 10,
     "metadata": {},
     "output_type": "execute_result"
    }
   ],
   "source": [
    "from itertools import product\n",
    "\n",
    "def get_info(inputz):\n",
    "    lista = \"\"\n",
    "    for i in range(len(inputz)):\n",
    "        lista = lista + f\"numbers[{i}] ops[{i}], \"\n",
    "\n",
    "    return lista[:-8]   \n",
    "\n",
    "def evaluate_left_to_right(numbers, ops):\n",
    "    result = numbers[0]\n",
    "    for i, op in enumerate(ops):\n",
    "        if op == '+':\n",
    "            result += numbers[i + 1]\n",
    "        elif op == '*':\n",
    "            result *= numbers[i + 1]\n",
    "        elif op == '||':\n",
    "            result = int(str(result)+str(numbers[i + 1]))\n",
    "    \n",
    "    return result\n",
    "\n",
    "operations = ['+', '*', '||']\n",
    "winning_list = []\n",
    "for item in data:\n",
    "    target = item[0]\n",
    "    numbers = item[1:]\n",
    "    \n",
    "    reps = len(numbers)-1\n",
    "    #print(target, numbers, reps)\n",
    "    func_template = get_info(numbers) \n",
    "\n",
    "    for ops in product(operations, repeat=reps):\n",
    "        result = evaluate_left_to_right(numbers, ops)\n",
    "        expr = f\"{numbers[0]}\"\n",
    "        for i, op in enumerate(ops):\n",
    "            expr += f\" {op} {numbers[i + 1]}\"\n",
    "            #print(expr, result, target)\n",
    "        if result == target:\n",
    "            winning_list.append(result)\n",
    "\n",
    "sum(set(winning_list))\n"
   ]
  }
 ],
 "metadata": {
  "kernelspec": {
   "display_name": "Python_pandas",
   "language": "python",
   "name": "python3"
  },
  "language_info": {
   "codemirror_mode": {
    "name": "ipython",
    "version": 3
   },
   "file_extension": ".py",
   "mimetype": "text/x-python",
   "name": "python",
   "nbconvert_exporter": "python",
   "pygments_lexer": "ipython3",
   "version": "3.11.5"
  }
 },
 "nbformat": 4,
 "nbformat_minor": 2
}
