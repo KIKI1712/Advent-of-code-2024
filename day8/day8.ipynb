{
 "cells": [
  {
   "cell_type": "code",
   "execution_count": 1,
   "metadata": {},
   "outputs": [],
   "source": [
    "with open('data8.txt', 'r') as file:\n",
    "    dt = file.read()\n",
    "\n",
    "\n",
    "with open('data8test.txt', 'r') as file:\n",
    "    dtt = file.read()\n",
    "\n",
    "data = [list(x) for x in dt.splitlines()]"
   ]
  },
  {
   "cell_type": "markdown",
   "metadata": {},
   "source": [
    "PART1"
   ]
  },
  {
   "cell_type": "code",
   "execution_count": 2,
   "metadata": {},
   "outputs": [
    {
     "data": {
      "text/plain": [
       "311"
      ]
     },
     "execution_count": 2,
     "metadata": {},
     "output_type": "execute_result"
    }
   ],
   "source": [
    "from itertools import combinations\n",
    "\n",
    "uniques = list(set(x for l in data for x in l))\n",
    "#print(uniques)\n",
    "uniques.remove('.')\n",
    "hesh_list = []\n",
    "\n",
    "for itemm in uniques:\n",
    "\n",
    "    coordinates = [(i, j) for i, row in enumerate(data) for j, val in enumerate(row) if val == itemm]\n",
    "    data_x = data\n",
    "    for ops in combinations(coordinates, 2):\n",
    "        up_down = ops[0][0] - ops[1][0]\n",
    "        left_right = ops[0][1] - ops[1][1]\n",
    "        move = (up_down, left_right)\n",
    "        \n",
    "        hesh_pos1 = move[0] + ops[0][0], move[1] + ops[0][1]\n",
    "        hesj_pos2 = ops[1][0] - move[0],ops[1][1] - move[1]\n",
    "        try:\n",
    "            data[move[0] + ops[0][0]][move[1] + ops[0][1]]\n",
    "            hesh_list.append(hesh_pos1)\n",
    "        except:\n",
    "            pass\n",
    "        try:\n",
    "            data[ops[1][0] - move[0]][ops[1][1] - move[1]]\n",
    "            hesh_list.append(hesj_pos2)\n",
    "        except:\n",
    "            pass\n",
    "\n",
    "hesh_clean = []\n",
    "for i in hesh_list:\n",
    "    if i[0] >= 0 and  i[1] >= 0:\n",
    "        hesh_clean.append(i)\n",
    "\n",
    "len(set(hesh_clean))"
   ]
  },
  {
   "cell_type": "markdown",
   "metadata": {},
   "source": [
    "PART2"
   ]
  },
  {
   "cell_type": "code",
   "execution_count": 3,
   "metadata": {},
   "outputs": [
    {
     "name": "stdout",
     "output_type": "stream",
     "text": [
      "1115\n"
     ]
    }
   ],
   "source": [
    "from itertools import combinations\n",
    "\n",
    "uniques = list(set(x for l in data for x in l))\n",
    "#print(uniques)\n",
    "uniques.remove('.')\n",
    "hesh_list = []\n",
    "\n",
    "for itemm in uniques:\n",
    "\n",
    "    coordinates = [(i, j) for i, row in enumerate(data) for j, val in enumerate(row) if val == itemm]\n",
    "    data_x = data\n",
    "    for ops in combinations(coordinates, 2):\n",
    "        up_down = ops[0][0] - ops[1][0]\n",
    "        left_right = ops[0][1] - ops[1][1]\n",
    "        move = (up_down, left_right)\n",
    "        hesh_pos1 = move[0] + ops[0][0], move[1] + ops[0][1]\n",
    "        hesj_pos2 = ops[1][0] - move[0],ops[1][1] - move[1]\n",
    "        for _ in range(1000):\n",
    "            try:\n",
    "                data[hesh_pos1[0]][hesh_pos1[1]] \n",
    "                hesh_list.append(hesh_pos1)\n",
    "            except:\n",
    "                pass\n",
    "            try:\n",
    "                data[hesj_pos2[0]][hesj_pos2[1]] \n",
    "                hesh_list.append(hesj_pos2)\n",
    "                \n",
    "            except:\n",
    "                pass\n",
    "            hesh_pos1 = (move[0] + hesh_pos1[0], move[1] + hesh_pos1[1])\n",
    "         \n",
    "            hesj_pos2 = (hesj_pos2[0] - move[0],hesj_pos2[1] - move[1])\n",
    "           \n",
    "\n",
    "hesh_clean = []\n",
    "for i in hesh_list:\n",
    "    if i[0] >= 0 and  i[1] >= 0:\n",
    "        hesh_clean.append(i)\n",
    "        \n",
    "dd = data\n",
    "for i in hesh_clean:\n",
    "    dd[i[0]][i[1]] = '#'\n",
    "\n",
    "\n",
    "print(sum([1 for x in data_x for y in x if y != '.']))\n"
   ]
  }
 ],
 "metadata": {
  "kernelspec": {
   "display_name": "Python 3",
   "language": "python",
   "name": "python3"
  },
  "language_info": {
   "codemirror_mode": {
    "name": "ipython",
    "version": 3
   },
   "file_extension": ".py",
   "mimetype": "text/x-python",
   "name": "python",
   "nbconvert_exporter": "python",
   "pygments_lexer": "ipython3",
   "version": "3.11.5"
  }
 },
 "nbformat": 4,
 "nbformat_minor": 2
}
